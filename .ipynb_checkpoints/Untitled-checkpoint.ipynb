{
 "cells": [
  {
   "cell_type": "code",
   "execution_count": 30,
   "id": "94a3cb01",
   "metadata": {},
   "outputs": [],
   "source": [
    "# Acquire MNIST data\n",
    "from tensorflow.keras.datasets import mnist\n",
    "\n",
    "(train_images, train_labels), (test_images, test_labels) = mnist.load_data()\n",
    "\n",
    "# Reshape data\n",
    "import numpy as np\n",
    "\n",
    "train_images = np.reshape(train_images, (-1, 784))\n",
    "test_images = np.reshape(test_images, (-1, 784))\n",
    "\n",
    "# Normalize data\n",
    "train_images = train_images.astype('float32') / 255\n",
    "test_images = test_images.astype('float32') / 255\n",
    "\n",
    "# Autoencoder model\n",
    "from tensorflow.keras import Model, Input\n",
    "from tensorflow.keras.layers import Dense\n",
    "\n",
    "input_dim = 28*28\n",
    "latent_vec_dim = 16\n",
    "\n",
    "input_layer = Input(shape=(input_dim,))\n",
    "\n",
    "# Define the autoencoder architecture\n",
    "# First build the encoder\n",
    "enc_layer_1 = Dense(latent_vec_dim, activation='tanh')(input_layer)\n",
    "encoder = enc_layer_1\n",
    "\n",
    "# Then build the decoder\n",
    "dec_layer_1 = Dense(input_dim, activation='sigmoid')(encoder)\n",
    "decoder = dec_layer_1\n",
    "\n",
    "# Connect both encoder and decoder\n",
    "autoencoder = Model(input_layer, decoder, name=\"AE_latent_dim_16\")\n",
    "\n",
    "# Latent representation (Optional)\n",
    "latent_model = Model(input_layer, encoder)\n",
    "\n",
    "# Compile the autoencoder model\n",
    "from tensorflow.keras.optimizers import Adam"
   ]
  },
  {
   "cell_type": "code",
   "execution_count": 35,
   "id": "48e7019b",
   "metadata": {},
   "outputs": [],
   "source": [
    "autoencoder.compile(\n",
    "    optimizer='adam',\n",
    "    metrics=['accuracy']\n",
    ")"
   ]
  },
  {
   "cell_type": "code",
   "execution_count": 37,
   "id": "a2f681e6",
   "metadata": {},
   "outputs": [
    {
     "name": "stdout",
     "output_type": "stream",
     "text": [
      "Train on 60000 samples\n",
      "Epoch 1/5\n",
      "60000/60000 [==============================] - 3s 43us/sample - loss: 2.6634 - accuracy: 0.1134\n",
      "Epoch 2/5\n",
      "60000/60000 [==============================] - 2s 40us/sample - loss: 2.3066 - accuracy: 0.1124\n",
      "Epoch 3/5\n",
      "60000/60000 [==============================] - 2s 40us/sample - loss: 2.1402 - accuracy: 0.1550\n",
      "Epoch 4/5\n",
      "60000/60000 [==============================] - 2s 40us/sample - loss: 0.7843 - accuracy: 0.7704\n",
      "Epoch 5/5\n",
      "60000/60000 [==============================] - 2s 41us/sample - loss: 0.4091 - accuracy: 0.8880\n"
     ]
    },
    {
     "data": {
      "text/plain": [
       "<tensorflow.python.keras.callbacks.History at 0x2a60c0b6a20>"
      ]
     },
     "execution_count": 37,
     "metadata": {},
     "output_type": "execute_result"
    }
   ],
   "source": [
    "autoencoder.fit(train_images, train_labels, epochs=5)"
   ]
  }
 ],
 "metadata": {
  "kernelspec": {
   "display_name": "Python 3",
   "language": "python",
   "name": "python3"
  },
  "language_info": {
   "codemirror_mode": {
    "name": "ipython",
    "version": 3
   },
   "file_extension": ".py",
   "mimetype": "text/x-python",
   "name": "python",
   "nbconvert_exporter": "python",
   "pygments_lexer": "ipython3",
   "version": "3.6.13"
  }
 },
 "nbformat": 4,
 "nbformat_minor": 5
}
